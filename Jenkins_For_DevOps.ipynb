{
  "nbformat": 4,
  "nbformat_minor": 0,
  "metadata": {
    "colab": {
      "name": "Jenkins_For_DevOps.ipynb",
      "version": "0.3.2",
      "provenance": [],
      "include_colab_link": true
    },
    "kernelspec": {
      "name": "python3",
      "display_name": "Python 3"
    },
    "accelerator": "GPU"
  },
  "cells": [
    {
      "cell_type": "markdown",
      "metadata": {
        "id": "view-in-github",
        "colab_type": "text"
      },
      "source": [
        "<a href=\"https://colab.research.google.com/github/alfredodeza/jenkins-for-devops/blob/master/Jenkins_For_DevOps.ipynb\" target=\"_parent\"><img src=\"https://colab.research.google.com/assets/colab-badge.svg\" alt=\"Open In Colab\"/></a>"
      ]
    },
    {
      "cell_type": "markdown",
      "metadata": {
        "id": "579g0NjXS7pc",
        "colab_type": "text"
      },
      "source": [
        "# Jenkins For DevOps"
      ]
    },
    {
      "cell_type": "markdown",
      "metadata": {
        "id": "5rxtvCa9S_CS",
        "colab_type": "text"
      },
      "source": [
        "\n",
        "\n",
        "```bash\n",
        "python -c \"import os\"\n",
        "```\n",
        "```python\n",
        "import os;os.list\n",
        "```\n",
        "\n"
      ]
    },
    {
      "cell_type": "code",
      "metadata": {
        "id": "bb6GEqjvTzHo",
        "colab_type": "code",
        "colab": {
          "base_uri": "https://localhost:8080/",
          "height": 35
        },
        "outputId": "e6124813-8d40-4b17-c415-fe98731a7ce8"
      },
      "source": [
        "import os;os.listdir(\".\")"
      ],
      "execution_count": 2,
      "outputs": [
        {
          "output_type": "execute_result",
          "data": {
            "text/plain": [
              "['.config', 'sample_data']"
            ]
          },
          "metadata": {
            "tags": []
          },
          "execution_count": 2
        }
      ]
    },
    {
      "cell_type": "markdown",
      "metadata": {
        "id": "vKZrf0UgTAtg",
        "colab_type": "text"
      },
      "source": [
        "## References"
      ]
    },
    {
      "cell_type": "markdown",
      "metadata": {
        "id": "vNWODtfJTBHA",
        "colab_type": "text"
      },
      "source": [
        ""
      ]
    }
  ]
}