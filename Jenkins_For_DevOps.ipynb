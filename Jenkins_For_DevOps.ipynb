{
  "nbformat": 4,
  "nbformat_minor": 0,
  "metadata": {
    "colab": {
      "name": "Jenkins_For_DevOps.ipynb",
      "version": "0.3.2",
      "provenance": [],
      "include_colab_link": true
    },
    "kernelspec": {
      "name": "python3",
      "display_name": "Python 3"
    }
  },
  "cells": [
    {
      "cell_type": "markdown",
      "metadata": {
        "id": "view-in-github",
        "colab_type": "text"
      },
      "source": [
        "<a href=\"https://colab.research.google.com/github/alfredodeza/jenkins-for-devops/blob/master/Jenkins_For_DevOps.ipynb\" target=\"_parent\"><img src=\"https://colab.research.google.com/assets/colab-badge.svg\" alt=\"Open In Colab\"/></a>"
      ]
    },
    {
      "cell_type": "markdown",
      "metadata": {
        "id": "579g0NjXS7pc",
        "colab_type": "text"
      },
      "source": [
        "# Jenkins For DevOps"
      ]
    },
    {
      "cell_type": "markdown",
      "metadata": {
        "id": "5rxtvCa9S_CS",
        "colab_type": "text"
      },
      "source": [
        ""
      ]
    },
    {
      "cell_type": "markdown",
      "metadata": {
        "id": "vKZrf0UgTAtg",
        "colab_type": "text"
      },
      "source": [
        "## References"
      ]
    },
    {
      "cell_type": "markdown",
      "metadata": {
        "id": "vNWODtfJTBHA",
        "colab_type": "text"
      },
      "source": [
        ""
      ]
    }
  ]
}